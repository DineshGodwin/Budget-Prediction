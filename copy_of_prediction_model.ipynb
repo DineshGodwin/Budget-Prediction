{
 "cells": [
  {
   "cell_type": "code",
   "execution_count": 1,
   "metadata": {},
   "outputs": [],
   "source": [
    "Values = [120,60,70,65,60,80,75,87,100];"
   ]
  },
  {
   "cell_type": "code",
   "execution_count": 2,
   "metadata": {},
   "outputs": [
    {
     "data": {
      "text/plain": [
       "[120, 60, 70, 65, 60, 80, 75, 87, 100]"
      ]
     },
     "execution_count": 2,
     "metadata": {},
     "output_type": "execute_result"
    }
   ],
   "source": [
    "Values"
   ]
  },
  {
   "cell_type": "code",
   "execution_count": 3,
   "metadata": {},
   "outputs": [],
   "source": [
    "import numpy as np\n",
    "import pandas as pd\n",
    "import seaborn as sns"
   ]
  },
  {
   "cell_type": "code",
   "execution_count": null,
   "metadata": {},
   "outputs": [],
   "source": [
    "train_data = pd.read_csv('expense_data_1.csv')\n",
    "train_data.shape"
   ]
  },
  {
   "cell_type": "code",
   "execution_count": null,
   "metadata": {},
   "outputs": [],
   "source": [
    "train_data.head()"
   ]
  },
  {
   "cell_type": "code",
   "execution_count": null,
   "metadata": {},
   "outputs": [],
   "source": [
    "train_data.describe()"
   ]
  },
  {
   "cell_type": "code",
   "execution_count": null,
   "metadata": {},
   "outputs": [],
   "source": [
    "training_data = train_data.iloc[:, 10:11]\n",
    "training_data.shape"
   ]
  },
  {
   "cell_type": "code",
   "execution_count": null,
   "metadata": {},
   "outputs": [],
   "source": [
    "training_data.head()"
   ]
  },
  {
   "cell_type": "code",
   "execution_count": null,
   "metadata": {},
   "outputs": [],
   "source": [
    "import matplotlib.pylab as plt\n",
    "plt.figure(figsize=(10,5))\n",
    "plt.plot(training_data, color ='green');\n",
    "plt.ylabel('Expenses')\n",
    "plt.title('Expenditure')\n",
    "plt.xlabel('Time')\n",
    "plt.show()"
   ]
  },
  {
   "cell_type": "code",
   "execution_count": null,
   "metadata": {},
   "outputs": [],
   "source": [
    "#normalising the training data between [0,1]\n",
    "from sklearn.preprocessing import MinMaxScaler\n",
    "mm = MinMaxScaler(feature_range = (0,1))\n",
    "training_data_scaled = mm.fit_transform(training_data)\n",
    "training_data_scaled.shape"
   ]
  },
  {
   "cell_type": "code",
   "execution_count": null,
   "metadata": {},
   "outputs": [],
   "source": [
    "plt.figure(figsize = (10,5))\n",
    "plt.plot(training_data_scaled)\n",
    "plt.title(\"Expenditure scaled\")\n",
    "plt.xlabel(\"time\")\n",
    "plt.ylabel(\"expenditure\")\n",
    "plt.show()"
   ]
  },
  {
   "cell_type": "code",
   "execution_count": null,
   "metadata": {},
   "outputs": [],
   "source": [
    "x_train = training_data_scaled[10:255]\n",
    "y_train = training_data_scaled[11:256]\n",
    "print(x_train.shape)\n",
    "print(y_train.shape)\n"
   ]
  },
  {
   "cell_type": "code",
   "execution_count": null,
   "metadata": {},
   "outputs": [],
   "source": [
    "x_train = np.reshape(x_train, (245,1,1))\n",
    "print(x_train.shape)"
   ]
  },
  {
   "cell_type": "code",
   "execution_count": null,
   "metadata": {},
   "outputs": [],
   "source": [
    "import keras\n",
    "from keras.models import Sequential\n",
    "from keras.layers import Dense,LSTM,Dropout"
   ]
  },
  {
   "cell_type": "code",
   "execution_count": null,
   "metadata": {},
   "outputs": [],
   "source": [
    "regressor = Sequential()\n",
    "regressor.add(LSTM(units= 50, return_sequences=True,input_shape =(x_train.shape[1],1)))\n",
    "regressor.add(Dropout(0.1))"
   ]
  },
  {
   "cell_type": "code",
   "execution_count": null,
   "metadata": {},
   "outputs": [],
   "source": [
    "#adding another hidden layer\n",
    "regressor.add(LSTM(units =50,return_sequences = True))\n",
    "regressor.add(Dropout(0.1))"
   ]
  },
  {
   "cell_type": "code",
   "execution_count": null,
   "metadata": {},
   "outputs": [],
   "source": [
    "regressor.add(LSTM(units = 50,return_sequences = True))"
   ]
  },
  {
   "cell_type": "code",
   "execution_count": null,
   "metadata": {},
   "outputs": [],
   "source": [
    "regressor.add(Dense(units =1 ))"
   ]
  },
  {
   "cell_type": "code",
   "execution_count": null,
   "metadata": {},
   "outputs": [],
   "source": [
    "regressor.compile(optimizer = 'adam',loss = 'mean_squared_error')"
   ]
  },
  {
   "cell_type": "code",
   "execution_count": null,
   "metadata": {},
   "outputs": [],
   "source": [
    "regressor.fit(x_train,y_train,epochs=100,batch_size = 32)"
   ]
  },
  {
   "cell_type": "code",
   "execution_count": null,
   "metadata": {},
   "outputs": [],
   "source": [
    "test_expense= train_data.iloc[:, 10:11]\n",
    "test_expense.shape\n",
    "input_value = test_expense\n",
    "mm = MinMaxScaler(feature_range = (0,1))\n",
    "input_value = mm.fit_transform(test_expense)\n",
    "input_value.shape\n"
   ]
  },
  {
   "cell_type": "code",
   "execution_count": null,
   "metadata": {},
   "outputs": [],
   "source": [
    "test_expense.shape\n"
   ]
  },
  {
   "cell_type": "code",
   "execution_count": null,
   "metadata": {},
   "outputs": [],
   "source": [
    "from sklearn.linear_model import LinearRegression\n",
    "import numpy as np"
   ]
  },
  {
   "cell_type": "code",
   "execution_count": null,
   "metadata": {},
   "outputs": [],
   "source": [
    "\n",
    "input_data = np.array([1, 2, 3, 4, 5]).reshape(-1, 1)\n",
    "\n",
    "\n",
    "output_values = np.array([1000, 1010, 1020, 1030, 1040])\n",
    "\n",
    "model = LinearRegression()\n",
    "\n",
    "model.fit(input_data, output_values)\n",
    "\n",
    "\n",
    "formatted_value = np.array([6]).reshape(-1, 1)\n",
    "predicted_value = model.predict(formatted_value)\n",
    "\n",
    "print(\"Predicted value:\", predicted_value[0])\n"
   ]
  },
  {
   "cell_type": "code",
   "execution_count": null,
   "metadata": {},
   "outputs": [],
   "source": [
    "test_expense.shape"
   ]
  },
  {
   "cell_type": "code",
   "execution_count": null,
   "metadata": {},
   "outputs": [],
   "source": [
    "input_data = np.array(Values).reshape(-1, 1)\n",
    "input_data_1 = mm.fit_transform(input_data)\n",
    "\n",
    "print(input_data)\n",
    "\n",
    "prediction = regressor.predict(input_data_1)\n",
    "prediction = prediction.reshape((prediction.shape[0], 1))\n",
    "prediction = mm.inverse_transform(prediction)\n",
    "\n",
    "prediction.shape\n",
    "print(prediction)"
   ]
  },
  {
   "cell_type": "code",
   "execution_count": null,
   "metadata": {},
   "outputs": [],
   "source": [
    "plt.rcParams['figure.figsize'] = (15,8)\n",
    "plt.plot(test_expense, color='red',label ='Real expenditure')\n",
    "plt.title('Test_expense')\n",
    "plt.xlabel('Time')\n",
    "plt.ylabel('expenditure')\n",
    "plt.legend()\n",
    "plt.show()"
   ]
  },
  {
   "cell_type": "code",
   "execution_count": null,
   "metadata": {},
   "outputs": [],
   "source": [
    "plt.rcParams['figure.figsize'] = (15,8)\n",
    "plt.plot(prediction, color='green',label ='predicted expense')\n",
    "plt.title('prediction')\n",
    "plt.xlabel('Time')\n",
    "plt.ylabel('expenditure')\n",
    "plt.legend()\n",
    "plt.show()"
   ]
  },
  {
   "cell_type": "code",
   "execution_count": null,
   "metadata": {},
   "outputs": [],
   "source": [
    "sum_of_test_expense = np.sum(test_expense)\n"
   ]
  },
  {
   "cell_type": "code",
   "execution_count": null,
   "metadata": {},
   "outputs": [],
   "source": [
    "sum_of_test_expense"
   ]
  },
  {
   "cell_type": "code",
   "execution_count": null,
   "metadata": {},
   "outputs": [],
   "source": [
    "sum_of_predicted_expense = np.sum(predicted_value[0])"
   ]
  },
  {
   "cell_type": "code",
   "execution_count": null,
   "metadata": {},
   "outputs": [],
   "source": [
    "sum_of_predicted_expense\n",
    "print(\"The inputted values\")\n",
    "print(input_data)\n",
    "print(\"The prediccted values\")\n",
    "print(prediction)"
   ]
  },
  {
   "cell_type": "code",
   "execution_count": null,
   "metadata": {},
   "outputs": [],
   "source": [
    "plt.rcParams['figure.figsize'] = (15,8)\n",
    "plt.plot(input_data, color='red',label ='Real expenditure')\n",
    "plt.plot(prediction, color='green',label ='predicted expense')\n",
    "plt.title('final expense prediciton')\n",
    "plt.xlabel('Time')\n",
    "plt.ylabel('expenditure')\n",
    "plt.legend()\n",
    "plt.show()"
   ]
  },
  {
   "cell_type": "code",
   "execution_count": null,
   "metadata": {},
   "outputs": [],
   "source": [
    "sum_of_predicted_expense = np.sum(prediction)\n",
    "sum_of_input_values = np.sum(input_data)\n",
    "print(\"The sum of inputted expenses\")\n",
    "print(sum_of_input_values)\n",
    "print(\"The sum of predicted expenses\")\n",
    "print(sum_of_predicted_expense)"
   ]
  },
  {
   "cell_type": "code",
   "execution_count": null,
   "metadata": {},
   "outputs": [],
   "source": [
    "difference = sum_of_input_values - sum_of_predicted_expense\n",
    "difference"
   ]
  },
  {
   "cell_type": "code",
   "execution_count": null,
   "metadata": {},
   "outputs": [],
   "source": [
    "def calculate_mape(actual_values, predicted_values):\n",
    "    actual_values, predicted_values = np.array(actual_values), np.array(predicted_values)\n",
    "    mape = np.mean(np.abs((actual_values - predicted_values) / actual_values)) * 100\n",
    "    return mape\n",
    "\n",
    "\n",
    "mape = calculate_mape(input_data.flatten(), prediction.flatten())\n",
    "print(f\"Mean Absolute Percentage Error (MAPE): {mape:.2f}%\")\n",
    "\n",
    "accuracy = 100 - mape\n",
    "print(f\"Accuracy: {accuracy:.2f}%\")\n",
    "\n"
   ]
  },
  {
   "cell_type": "code",
   "execution_count": null,
   "metadata": {},
   "outputs": [],
   "source": [
    "\n",
    "a =sum_of_predicted_expense\n",
    "\n",
    "print(\"The predicted value is\",a)\n",
    "\n",
    "\n"
   ]
  }
 ],
 "metadata": {
  "kernelspec": {
   "display_name": "Python 3",
   "language": "python",
   "name": "python3"
  },
  "language_info": {
   "codemirror_mode": {
    "name": "ipython",
    "version": 3
   },
   "file_extension": ".py",
   "mimetype": "text/x-python",
   "name": "python",
   "nbconvert_exporter": "python",
   "pygments_lexer": "ipython3",
   "version": "3.12.1"
  }
 },
 "nbformat": 4,
 "nbformat_minor": 2
}
